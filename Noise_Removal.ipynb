{
  "nbformat": 4,
  "nbformat_minor": 0,
  "metadata": {
    "colab": {
      "name": "Noise Removal.ipynb",
      "version": "0.3.2",
      "provenance": [],
      "include_colab_link": true
    },
    "kernelspec": {
      "name": "python3",
      "display_name": "Python 3"
    },
    "accelerator": "GPU"
  },
  "cells": [
    {
      "cell_type": "markdown",
      "metadata": {
        "id": "view-in-github",
        "colab_type": "text"
      },
      "source": [
        "<a href=\"https://colab.research.google.com/github/amit6604/NLP_tutorials/blob/master/Noise_Removal.ipynb\" target=\"_parent\"><img src=\"https://colab.research.google.com/assets/colab-badge.svg\" alt=\"Open In Colab\"/></a>"
      ]
    },
    {
      "cell_type": "code",
      "metadata": {
        "id": "MFzD59l1eG9D",
        "colab_type": "code",
        "colab": {}
      },
      "source": [
        "import nltk"
      ],
      "execution_count": 0,
      "outputs": []
    },
    {
      "cell_type": "code",
      "metadata": {
        "id": "ck8naNtPeVeH",
        "colab_type": "code",
        "colab": {
          "base_uri": "https://localhost:8080/",
          "height": 34
        },
        "outputId": "09e6c7c4-024e-4194-ac9a-3391ba90e93a"
      },
      "source": [
        "# Sample code to remove noisy words from a text\n",
        "\n",
        "noise_list = [\"is\", \"a\", \"this\", \"...\"]\n",
        "def remove_noise(input_text):\n",
        "  words = input_text.split()\n",
        "  noise_free_words = [word for word in words if word not in noise_list]\n",
        "  noise_free_text = ''.join(noise_free_words)\n",
        "  return noise_free_text\n",
        "\n",
        "print(remove_noise(\"this is a sample text used for natural language processing\"))"
      ],
      "execution_count": 2,
      "outputs": [
        {
          "output_type": "stream",
          "text": [
            "sampletextusedfornaturallanguageprocessing\n"
          ],
          "name": "stdout"
        }
      ]
    },
    {
      "cell_type": "code",
      "metadata": {
        "id": "-YX2pjxIhGrO",
        "colab_type": "code",
        "colab": {
          "base_uri": "https://localhost:8080/",
          "height": 34
        },
        "outputId": "975904e8-6ca0-490e-f7a6-0aee2f9857d7"
      },
      "source": [
        "# Another approach is to use the regular expressions\n",
        "\n",
        "# Sample code to remove a regex pattern\n",
        "\n",
        "import re\n",
        "\n",
        "def remove_regex(input_text, regex_pattern):\n",
        "  urls = re.finditer(regex_pattern, input_text)\n",
        "  for i in urls:\n",
        "    input_text = re.sub(i.group().strip(), '', input_text)\n",
        "  return input_text\n",
        "\n",
        "regex_pattern = \"#[\\w]*\"\n",
        "\n",
        "print(remove_regex(\"remove this #hashtag from my sample blog \", regex_pattern))\n",
        "\n"
      ],
      "execution_count": 3,
      "outputs": [
        {
          "output_type": "stream",
          "text": [
            "remove this  from my sample blog \n"
          ],
          "name": "stdout"
        }
      ]
    },
    {
      "cell_type": "code",
      "metadata": {
        "id": "gc7Lj5RYhzVe",
        "colab_type": "code",
        "colab": {}
      },
      "source": [
        ""
      ],
      "execution_count": 0,
      "outputs": []
    }
  ]
}